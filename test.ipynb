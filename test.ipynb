{
 "cells": [
  {
   "cell_type": "code",
   "execution_count": 2,
   "id": "89549393-606e-4f01-b1ca-6615aca84933",
   "metadata": {},
   "outputs": [
    {
     "name": "stdout",
     "output_type": "stream",
     "text": [
      "11\n"
     ]
    }
   ],
   "source": [
    "a=5\n",
    "b=6\n",
    "print (a+b)\n"
   ]
  },
  {
   "cell_type": "code",
   "execution_count": null,
   "id": "5c16ce95-af2b-44a6-9429-58130427f64b",
   "metadata": {},
   "outputs": [],
   "source": []
  },
  {
   "cell_type": "code",
   "execution_count": 4,
   "id": "09962788-a7e0-4212-a815-972bbf9d7955",
   "metadata": {},
   "outputs": [
    {
     "name": "stdout",
     "output_type": "stream",
     "text": [
      "hello\n"
     ]
    }
   ],
   "source": [
    "print (\"hello\")"
   ]
  },
  {
   "cell_type": "code",
   "execution_count": null,
   "id": "2b44ab52-6a68-4b31-bcea-35045ae38d49",
   "metadata": {},
   "outputs": [],
   "source": [
    "\n",
    "print(\"==== The First 10 Even Natural Numbers ====\")\n",
    "for i in range(1, 11):\n",
    "    print(2 * i)\n"
   ]
  },
  {
   "cell_type": "code",
   "execution_count": null,
   "id": "c3dde145-8b7c-4be0-9b60-193910eb7ef5",
   "metadata": {},
   "outputs": [],
   "source": [
    "\n"
   ]
  },
  {
   "cell_type": "code",
   "execution_count": null,
   "id": "bf63a758-5b1b-4646-9795-c84224f25d72",
   "metadata": {},
   "outputs": [],
   "source": []
  },
  {
   "cell_type": "code",
   "execution_count": null,
   "id": "75fdf0bc-414a-4bf8-8133-0c06681d6935",
   "metadata": {},
   "outputs": [],
   "source": []
  }
 ],
 "metadata": {
  "kernelspec": {
   "display_name": "Python 3 (ipykernel)",
   "language": "python",
   "name": "python3"
  },
  "language_info": {
   "codemirror_mode": {
    "name": "ipython",
    "version": 3
   },
   "file_extension": ".py",
   "mimetype": "text/x-python",
   "name": "python",
   "nbconvert_exporter": "python",
   "pygments_lexer": "ipython3",
   "version": "3.12.3"
  }
 },
 "nbformat": 4,
 "nbformat_minor": 5
}
